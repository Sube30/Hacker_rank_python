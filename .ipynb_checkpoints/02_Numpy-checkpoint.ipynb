{
 "cells": [
  {
   "cell_type": "code",
   "execution_count": 13,
   "id": "bf115957-c54c-43d1-97bb-d144d31f065e",
   "metadata": {},
   "outputs": [
    {
     "name": "stdin",
     "output_type": "stream",
     "text": [
      " 1 5 6\n"
     ]
    },
    {
     "name": "stdout",
     "output_type": "stream",
     "text": [
      "[6. 5. 1.]\n"
     ]
    }
   ],
   "source": [
    "#reverse the array\n",
    "import numpy as np\n",
    "\n",
    "def arrays(arr):\n",
    "    res = np.array(arr,float)  \n",
    "    res = res[::-1]\n",
    "    return res\n",
    "arr = input().strip().split(' ')\n",
    "res = arrays(arr)\n",
    "print(res)\n"
   ]
  },
  {
   "cell_type": "code",
   "execution_count": 17,
   "id": "9a6907e7-c19e-4810-9c08-e3b0089248d6",
   "metadata": {},
   "outputs": [
    {
     "name": "stdin",
     "output_type": "stream",
     "text": [
      " 1 2 3 4 5 6 7 8 9\n"
     ]
    },
    {
     "name": "stdout",
     "output_type": "stream",
     "text": [
      "[[1 2 3]\n",
      " [4 5 6]\n",
      " [7 8 9]]\n"
     ]
    }
   ],
   "source": [
    "#reshape the array\n",
    "\n",
    "import numpy\n",
    "arr = input().strip().split(' ')\n",
    "my_array = numpy.array(arr,int)\n",
    "print(numpy.reshape(my_array,(3,3)))\n"
   ]
  },
  {
   "cell_type": "code",
   "execution_count": 26,
   "id": "9b8b71e9-3205-4c4b-9f74-540ad8a2c357",
   "metadata": {},
   "outputs": [
    {
     "name": "stdin",
     "output_type": "stream",
     "text": [
      " 2 3\n",
      " 1 2 3\n",
      " 4 5 6\n"
     ]
    },
    {
     "name": "stdout",
     "output_type": "stream",
     "text": [
      "[[1 4]\n",
      " [2 5]\n",
      " [3 6]]\n",
      "[1 2 3 4 5 6]\n"
     ]
    }
   ],
   "source": [
    "## Transpose and flatten\n",
    "\n",
    "#The first line contains the space separated values of N and M.\n",
    "#The next  lines contains the space separated elements of  columns.\n",
    "\n",
    "import numpy\n",
    "m,n = input().strip().split(' ')\n",
    "arr = []\n",
    "\n",
    "for i in range(int(m)):\n",
    "        ele = list(map(int,input().split(' ')))\n",
    "        arr.append(ele)\n",
    "arr = numpy.array(arr)\n",
    "print(arr.transpose())\n",
    "print(arr.flatten())"
   ]
  },
  {
   "cell_type": "code",
   "execution_count": 29,
   "id": "56ae5a29-e1fa-4676-b036-1f83ed289478",
   "metadata": {},
   "outputs": [
    {
     "name": "stdin",
     "output_type": "stream",
     "text": [
      " 4 3 2\n",
      " 1 2\n",
      " 3 2\n",
      " 3 4\n",
      " 2 3\n",
      " 1 2\n",
      " 3 2\n",
      " 3 4\n"
     ]
    },
    {
     "name": "stdout",
     "output_type": "stream",
     "text": [
      "[[1 2 3 1 2 3]\n",
      " [4 5 6 4 5 6]]\n"
     ]
    }
   ],
   "source": [
    "# Array concatenation\n",
    "\n",
    "\n",
    "import numpy\n",
    "m,n ,p = input().strip().split(' ')\n",
    "arr1 = []\n",
    "for i in range(int(m)):\n",
    "        ele = list(map(int,input().split(' ')))\n",
    "        arr1.append(ele)\n",
    "arr1 = numpy.array(arr1)\n",
    "arr2 = []\n",
    "for i in range(int(n)):\n",
    "        ele = list(map(int,input().split(' ')))\n",
    "        arr2.append(ele)\n",
    "arr2 = numpy.array(arr2)\n",
    "print(numpy.concatenate((arr1,arr2),axis=0))"
   ]
  },
  {
   "cell_type": "code",
   "execution_count": 36,
   "id": "9a5e9cd9-acd8-4afa-a743-1ca3343c3d10",
   "metadata": {},
   "outputs": [
    {
     "name": "stdin",
     "output_type": "stream",
     "text": [
      " 2 3\n"
     ]
    },
    {
     "name": "stdout",
     "output_type": "stream",
     "text": [
      "[[0 0 0]\n",
      " [0 0 0]]\n",
      "[[1 1 1]\n",
      " [1 1 1]]\n"
     ]
    }
   ],
   "source": [
    "# zeros and ones\n",
    "\n",
    "import numpy\n",
    "\n",
    "ele = list(map(int, input().split(' ')))\n",
    "print(np.zeros((ele),int))\n",
    "print(np.ones((ele),int))\n"
   ]
  },
  {
   "cell_type": "code",
   "execution_count": 44,
   "id": "7554a2c2-43cb-4bfa-8328-2815b0eaabb1",
   "metadata": {},
   "outputs": [
    {
     "name": "stdout",
     "output_type": "stream",
     "text": [
      "None\n"
     ]
    },
    {
     "name": "stdin",
     "output_type": "stream",
     "text": [
      " 2 3\n"
     ]
    },
    {
     "name": "stdout",
     "output_type": "stream",
     "text": [
      "[[ 1.  0.  0.]\n",
      " [ 0.  1.  0.]]\n"
     ]
    }
   ],
   "source": [
    "#Identity and eye\n",
    "\n",
    "import numpy\n",
    "numpy.set_printoptions(legacy='1.13')\n",
    "n, m = map(int, input().split())\n",
    "print(numpy.eye(n,m))"
   ]
  },
  {
   "cell_type": "markdown",
   "id": "e26e1128-8df8-42e4-a8da-c54f7ef25704",
   "metadata": {},
   "source": [
    "Add ( + )\n",
    "Subtract ( - )\n",
    "Multiply ( * )\n",
    "Integer Division ( / )\n",
    "Mod ( % )\n",
    "Power ( ** )\n"
   ]
  },
  {
   "cell_type": "code",
   "execution_count": 49,
   "id": "d8ca8dac-4aaa-49ca-965a-f92ee5c3ec90",
   "metadata": {},
   "outputs": [
    {
     "name": "stdin",
     "output_type": "stream",
     "text": [
      " 1 4\n",
      " 1 2 3 4\n",
      " 2 3 4 5\n"
     ]
    },
    {
     "name": "stdout",
     "output_type": "stream",
     "text": [
      "[[3 5 7 9]]\n",
      "[[-1 -1 -1 -1]]\n",
      "[[ 2  6 12 20]]\n",
      "[[0 0 0 0]]\n",
      "[[1 2 3 4]]\n",
      "[[   1    8   81 1024]]\n"
     ]
    }
   ],
   "source": [
    "import numpy\n",
    "m,n  = input().strip().split(' ')\n",
    "arr1 = []\n",
    "for i in range(int(m)):\n",
    "        ele = list(map(int,input().split(' ')))\n",
    "        arr1.append(ele)\n",
    "arr1 = numpy.array(arr1)\n",
    "arr2 = []\n",
    "for i in range(int(m)):\n",
    "        ele = list(map(int,input().split(' ')))\n",
    "        arr2.append(ele)\n",
    "arr2 = numpy.array(arr2)\n",
    "print(numpy.add(arr1,arr2))\n",
    "print(numpy.subtract(arr1,arr2))\n",
    "print(numpy.multiply(arr1,arr2))\n",
    "print(numpy.floor_divide(arr1,arr2))\n",
    "print(numpy.mod(arr1,arr2))\n",
    "print(numpy.power(arr1,arr2))"
   ]
  },
  {
   "cell_type": "code",
   "execution_count": 56,
   "id": "0218e7f5-6711-4dbd-95ba-26e78531f1b6",
   "metadata": {},
   "outputs": [
    {
     "name": "stdin",
     "output_type": "stream",
     "text": [
      " 1 2 3 4 5\n"
     ]
    },
    {
     "name": "stdout",
     "output_type": "stream",
     "text": [
      "[ 1.  2.  3.  4.  5.]\n",
      "[ 1.  2.  3.  4.  5.]\n",
      "[ 1.  2.  3.  4.  5.]\n"
     ]
    }
   ],
   "source": [
    "#Floor, ceil, rint\n",
    "import numpy\n",
    "numpy.set_printoptions(legacy='1.13')\n",
    "ele  = list(map(float,input().strip().split(' ')))\n",
    "arr  = numpy.array(ele)\n",
    "print(numpy.floor(arr))\n",
    "print(numpy.ceil(arr))\n",
    "print(numpy.rint(arr))"
   ]
  },
  {
   "cell_type": "code",
   "execution_count": 58,
   "id": "62790a80-2f8b-4e5f-93ab-eeb901ab89f3",
   "metadata": {},
   "outputs": [
    {
     "name": "stdin",
     "output_type": "stream",
     "text": [
      " 2 2 \n",
      " 1 2\n",
      " 3 4\n"
     ]
    },
    {
     "name": "stdout",
     "output_type": "stream",
     "text": [
      "24\n"
     ]
    }
   ],
   "source": [
    "# sum and prod\n",
    "import numpy\n",
    "m,n  = input().strip().split(' ')\n",
    "arr1 = []\n",
    "for i in range(int(m)):\n",
    "        ele = list(map(int,input().split(' ')))\n",
    "        arr1.append(ele)\n",
    "arr1 = numpy.array(arr1)\n",
    "arr_sum = numpy.sum(arr1,axis=0)\n",
    "arr_prod = numpy.prod(arr_sum)\n",
    "print(arr_prod)\n",
    "\n"
   ]
  },
  {
   "cell_type": "code",
   "execution_count": 59,
   "id": "af8afc09-5cd7-47ca-8e6e-c358be67e462",
   "metadata": {},
   "outputs": [
    {
     "name": "stdin",
     "output_type": "stream",
     "text": [
      " 2 2\n",
      " 1 2\n",
      " 3 4\n"
     ]
    },
    {
     "name": "stdout",
     "output_type": "stream",
     "text": [
      "3\n"
     ]
    }
   ],
   "source": [
    "#min and max\n",
    "import numpy\n",
    "m,n  = input().strip().split(' ')\n",
    "arr1 = []\n",
    "for i in range(int(m)):\n",
    "        ele = list(map(int,input().split(' ')))\n",
    "        arr1.append(ele)\n",
    "arr1 = numpy.array(arr1)\n",
    "arr_min = numpy.min(arr1,axis=1)\n",
    "arr_max = numpy.max(arr_min)\n",
    "print(arr_max)\n"
   ]
  },
  {
   "cell_type": "code",
   "execution_count": 61,
   "id": "c598a8f0-6628-4b9b-b9ac-13fb28254bbb",
   "metadata": {},
   "outputs": [
    {
     "name": "stdin",
     "output_type": "stream",
     "text": [
      " 2 2\n",
      " 1 2\n",
      " 3 4\n"
     ]
    },
    {
     "name": "stdout",
     "output_type": "stream",
     "text": [
      "[ 1.5  3.5]\n",
      "[ 1.  1.]\n",
      "1.11803398875\n"
     ]
    }
   ],
   "source": [
    "#mean, var, std\n",
    "import numpy\n",
    "m,n  = input().strip().split(' ')\n",
    "arr1 = []\n",
    "for i in range(int(m)):\n",
    "        ele = list(map(int,input().split(' ')))\n",
    "        arr1.append(ele)\n",
    "arr1 = numpy.array(arr1)\n",
    "arr_mean = numpy.mean(arr1,axis=1)\n",
    "arr_var = numpy.var(arr1,axis=0)\n",
    "arr_std = numpy.round(numpy.std(arr1,axis=None),11)\n",
    "\n",
    "print(arr_mean)\n",
    "print(arr_var)\n",
    "print(arr_std)\n"
   ]
  },
  {
   "cell_type": "code",
   "execution_count": 66,
   "id": "bfe1d806-5ea3-48ac-b82e-aedfa4a7d66c",
   "metadata": {},
   "outputs": [
    {
     "name": "stdin",
     "output_type": "stream",
     "text": [
      " 2\n",
      " 1 2\n",
      " 2 3\n",
      " 1 2\n",
      " 2 3\n"
     ]
    },
    {
     "name": "stdout",
     "output_type": "stream",
     "text": [
      "[[ 5  8]\n",
      " [ 8 13]]\n"
     ]
    }
   ],
   "source": [
    "import numpy\n",
    "m  = input().strip().split(' ')\n",
    "arr1 = []\n",
    "for i in range(int(m[0])):\n",
    "        ele = list(map(int,input().split(' ')))\n",
    "        arr1.append(ele)\n",
    "arr1 = numpy.array(arr1)\n",
    "arr2 = []\n",
    "for i in range(int(m[0])):\n",
    "        ele = list(map(int,input().split(' ')))\n",
    "        arr2.append(ele)\n",
    "arr2 = numpy.array(arr2)\n",
    "print(numpy.dot(arr1,arr2))"
   ]
  },
  {
   "cell_type": "code",
   "execution_count": null,
   "id": "d7bb4b9a-8118-4d65-b894-2396e1837f72",
   "metadata": {},
   "outputs": [],
   "source": [
    "#inner and outer\n",
    "import numpy\n",
    "#numpy.set_printoptions(legacy='1.13')\n",
    "ele  = list(map(int,input().strip().split(' ')))\n",
    "arr1  = numpy.array(ele)\n",
    "ele1  = list(map(int,input().strip().split(' ')))\n",
    "arr2  = numpy.array(ele1)\n",
    "print(numpy.inner(arr1,arr2))\n",
    "print(numpy.outer(arr1,arr2))"
   ]
  },
  {
   "cell_type": "code",
   "execution_count": 68,
   "id": "20b4a0ec-57f6-492e-a21e-95faef56b34f",
   "metadata": {},
   "outputs": [
    {
     "name": "stdin",
     "output_type": "stream",
     "text": [
      " 1.1 2 3\n",
      " 0\n"
     ]
    },
    {
     "name": "stdout",
     "output_type": "stream",
     "text": [
      "3.0\n"
     ]
    }
   ],
   "source": [
    "#polynomial\n",
    "import numpy\n",
    "#numpy.set_printoptions(legacy='1.13')\n",
    "ele  = list(map(float,input().strip().split(' ')))\n",
    "arr1  = numpy.array(ele)\n",
    "ele1  = int(input())\n",
    "print(numpy.polyval(arr1,ele1))"
   ]
  },
  {
   "cell_type": "code",
   "execution_count": 70,
   "id": "83e748a2-196e-4ddf-857d-1b065082a964",
   "metadata": {},
   "outputs": [
    {
     "name": "stdin",
     "output_type": "stream",
     "text": [
      " 2\n",
      " 1.1 1.1\n",
      " 1.1 1.2\n"
     ]
    },
    {
     "name": "stdout",
     "output_type": "stream",
     "text": [
      "0.11\n"
     ]
    }
   ],
   "source": [
    "import numpy\n",
    "m  = input().strip().split(' ')\n",
    "arr1 = []\n",
    "for i in range(int(m[0])):\n",
    "        ele = list(map(float,input().split(' ')))\n",
    "        arr1.append(ele)\n",
    "arr1 = numpy.array(arr1)\n",
    "print(numpy.linalg.det(arr1))"
   ]
  },
  {
   "cell_type": "code",
   "execution_count": 72,
   "id": "3aae2fd8-8a55-4a5d-af09-a4559ca9f793",
   "metadata": {},
   "outputs": [
    {
     "name": "stdin",
     "output_type": "stream",
     "text": [
      " 2\n",
      " 1.1 1.1\n",
      " 1.1 1.2\n"
     ]
    },
    {
     "name": "stdout",
     "output_type": "stream",
     "text": [
      "0.11\n"
     ]
    }
   ],
   "source": [
    "import numpy\n",
    "m  = input().strip().split(' ')\n",
    "arr1 = []\n",
    "for i in range(int(m[0])):\n",
    "        ele = list(map(float,input().split(' ')))\n",
    "        arr1.append(ele)\n",
    "arr1 = numpy.array(arr1)\n",
    "print(numpy.round(numpy.linalg.det(arr1),2))"
   ]
  },
  {
   "cell_type": "code",
   "execution_count": null,
   "id": "e01fac51-984c-43b9-9804-2d64df40d1f6",
   "metadata": {},
   "outputs": [],
   "source": []
  }
 ],
 "metadata": {
  "kernelspec": {
   "display_name": "Python 3 (ipykernel)",
   "language": "python",
   "name": "python3"
  },
  "language_info": {
   "codemirror_mode": {
    "name": "ipython",
    "version": 3
   },
   "file_extension": ".py",
   "mimetype": "text/x-python",
   "name": "python",
   "nbconvert_exporter": "python",
   "pygments_lexer": "ipython3",
   "version": "3.8.19"
  }
 },
 "nbformat": 4,
 "nbformat_minor": 5
}
